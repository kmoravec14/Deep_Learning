{
 "cells": [
  {
   "cell_type": "markdown",
   "metadata": {},
   "source": [
    "## Preprocessing"
   ]
  },
  {
   "cell_type": "code",
   "execution_count": 1,
   "metadata": {},
   "outputs": [
    {
     "name": "stdout",
     "output_type": "stream",
     "text": [
      "Init Plugin\n",
      "Init Graph Optimizer\n",
      "Init Kernel\n"
     ]
    },
    {
     "data": {
      "text/html": [
       "<div>\n",
       "<style scoped>\n",
       "    .dataframe tbody tr th:only-of-type {\n",
       "        vertical-align: middle;\n",
       "    }\n",
       "\n",
       "    .dataframe tbody tr th {\n",
       "        vertical-align: top;\n",
       "    }\n",
       "\n",
       "    .dataframe thead th {\n",
       "        text-align: right;\n",
       "    }\n",
       "</style>\n",
       "<table border=\"1\" class=\"dataframe\">\n",
       "  <thead>\n",
       "    <tr style=\"text-align: right;\">\n",
       "      <th></th>\n",
       "      <th>EIN</th>\n",
       "      <th>NAME</th>\n",
       "      <th>APPLICATION_TYPE</th>\n",
       "      <th>AFFILIATION</th>\n",
       "      <th>CLASSIFICATION</th>\n",
       "      <th>USE_CASE</th>\n",
       "      <th>ORGANIZATION</th>\n",
       "      <th>STATUS</th>\n",
       "      <th>INCOME_AMT</th>\n",
       "      <th>SPECIAL_CONSIDERATIONS</th>\n",
       "      <th>ASK_AMT</th>\n",
       "      <th>IS_SUCCESSFUL</th>\n",
       "    </tr>\n",
       "  </thead>\n",
       "  <tbody>\n",
       "    <tr>\n",
       "      <th>0</th>\n",
       "      <td>10520599</td>\n",
       "      <td>BLUE KNIGHTS MOTORCYCLE CLUB</td>\n",
       "      <td>T10</td>\n",
       "      <td>Independent</td>\n",
       "      <td>C1000</td>\n",
       "      <td>ProductDev</td>\n",
       "      <td>Association</td>\n",
       "      <td>1</td>\n",
       "      <td>0</td>\n",
       "      <td>N</td>\n",
       "      <td>5000</td>\n",
       "      <td>1</td>\n",
       "    </tr>\n",
       "    <tr>\n",
       "      <th>1</th>\n",
       "      <td>10531628</td>\n",
       "      <td>AMERICAN CHESAPEAKE CLUB CHARITABLE TR</td>\n",
       "      <td>T3</td>\n",
       "      <td>Independent</td>\n",
       "      <td>C2000</td>\n",
       "      <td>Preservation</td>\n",
       "      <td>Co-operative</td>\n",
       "      <td>1</td>\n",
       "      <td>1-9999</td>\n",
       "      <td>N</td>\n",
       "      <td>108590</td>\n",
       "      <td>1</td>\n",
       "    </tr>\n",
       "    <tr>\n",
       "      <th>2</th>\n",
       "      <td>10547893</td>\n",
       "      <td>ST CLOUD PROFESSIONAL FIREFIGHTERS</td>\n",
       "      <td>T5</td>\n",
       "      <td>CompanySponsored</td>\n",
       "      <td>C3000</td>\n",
       "      <td>ProductDev</td>\n",
       "      <td>Association</td>\n",
       "      <td>1</td>\n",
       "      <td>0</td>\n",
       "      <td>N</td>\n",
       "      <td>5000</td>\n",
       "      <td>0</td>\n",
       "    </tr>\n",
       "    <tr>\n",
       "      <th>3</th>\n",
       "      <td>10553066</td>\n",
       "      <td>SOUTHSIDE ATHLETIC ASSOCIATION</td>\n",
       "      <td>T3</td>\n",
       "      <td>CompanySponsored</td>\n",
       "      <td>C2000</td>\n",
       "      <td>Preservation</td>\n",
       "      <td>Trust</td>\n",
       "      <td>1</td>\n",
       "      <td>10000-24999</td>\n",
       "      <td>N</td>\n",
       "      <td>6692</td>\n",
       "      <td>1</td>\n",
       "    </tr>\n",
       "    <tr>\n",
       "      <th>4</th>\n",
       "      <td>10556103</td>\n",
       "      <td>GENETIC RESEARCH INSTITUTE OF THE DESERT</td>\n",
       "      <td>T3</td>\n",
       "      <td>Independent</td>\n",
       "      <td>C1000</td>\n",
       "      <td>Heathcare</td>\n",
       "      <td>Trust</td>\n",
       "      <td>1</td>\n",
       "      <td>100000-499999</td>\n",
       "      <td>N</td>\n",
       "      <td>142590</td>\n",
       "      <td>1</td>\n",
       "    </tr>\n",
       "  </tbody>\n",
       "</table>\n",
       "</div>"
      ],
      "text/plain": [
       "        EIN                                      NAME APPLICATION_TYPE  \\\n",
       "0  10520599              BLUE KNIGHTS MOTORCYCLE CLUB              T10   \n",
       "1  10531628    AMERICAN CHESAPEAKE CLUB CHARITABLE TR               T3   \n",
       "2  10547893        ST CLOUD PROFESSIONAL FIREFIGHTERS               T5   \n",
       "3  10553066            SOUTHSIDE ATHLETIC ASSOCIATION               T3   \n",
       "4  10556103  GENETIC RESEARCH INSTITUTE OF THE DESERT               T3   \n",
       "\n",
       "        AFFILIATION CLASSIFICATION      USE_CASE  ORGANIZATION  STATUS  \\\n",
       "0       Independent          C1000    ProductDev   Association       1   \n",
       "1       Independent          C2000  Preservation  Co-operative       1   \n",
       "2  CompanySponsored          C3000    ProductDev   Association       1   \n",
       "3  CompanySponsored          C2000  Preservation         Trust       1   \n",
       "4       Independent          C1000     Heathcare         Trust       1   \n",
       "\n",
       "      INCOME_AMT SPECIAL_CONSIDERATIONS  ASK_AMT  IS_SUCCESSFUL  \n",
       "0              0                      N     5000              1  \n",
       "1         1-9999                      N   108590              1  \n",
       "2              0                      N     5000              0  \n",
       "3    10000-24999                      N     6692              1  \n",
       "4  100000-499999                      N   142590              1  "
      ]
     },
     "execution_count": 1,
     "metadata": {},
     "output_type": "execute_result"
    }
   ],
   "source": [
    "# Import our dependencies\n",
    "from sklearn.model_selection import train_test_split\n",
    "from sklearn.preprocessing import StandardScaler\n",
    "import pandas as pd\n",
    "import tensorflow as tf\n",
    "\n",
    "#  Import and read the charity_data.csv.\n",
    "import pandas as pd \n",
    "df = pd.read_csv(\"../Resources/charity_data.csv\")\n",
    "df.head()"
   ]
  },
  {
   "cell_type": "code",
   "execution_count": 2,
   "metadata": {
    "tags": []
   },
   "outputs": [
    {
     "data": {
      "text/plain": [
       "(34299, 12)"
      ]
     },
     "execution_count": 2,
     "metadata": {},
     "output_type": "execute_result"
    }
   ],
   "source": [
    "# df.describe()\n",
    "# df['AFFILIATION'].nunique()\n",
    "df.shape\n"
   ]
  },
  {
   "cell_type": "code",
   "execution_count": 3,
   "metadata": {},
   "outputs": [
    {
     "data": {
      "application/vnd.jupyter.widget-view+json": {
       "model_id": "4dfac0d48a914531ab971bcefbfd4447",
       "version_major": 2,
       "version_minor": 0
      },
      "text/plain": [
       "                                             |                                                                …"
      ]
     },
     "metadata": {},
     "output_type": "display_data"
    },
    {
     "name": "stderr",
     "output_type": "stream",
     "text": [
      "/Users/keithmoravec/miniforge3/envs/tensorflow/lib/python3.9/site-packages/sweetviz/utils.py:34: FutureWarning: The series.append method is deprecated and will be removed from pandas in a future version. Use pandas.concat instead.\n",
      "  clamped_series = clamped_series.append(other_series, ignore_index=False)\n",
      "/Users/keithmoravec/miniforge3/envs/tensorflow/lib/python3.9/site-packages/sweetviz/utils.py:34: FutureWarning: The series.append method is deprecated and will be removed from pandas in a future version. Use pandas.concat instead.\n",
      "  clamped_series = clamped_series.append(other_series, ignore_index=False)\n",
      "/Users/keithmoravec/miniforge3/envs/tensorflow/lib/python3.9/site-packages/sweetviz/utils.py:34: FutureWarning: The series.append method is deprecated and will be removed from pandas in a future version. Use pandas.concat instead.\n",
      "  clamped_series = clamped_series.append(other_series, ignore_index=False)\n",
      "/Users/keithmoravec/miniforge3/envs/tensorflow/lib/python3.9/site-packages/sweetviz/utils.py:34: FutureWarning: The series.append method is deprecated and will be removed from pandas in a future version. Use pandas.concat instead.\n",
      "  clamped_series = clamped_series.append(other_series, ignore_index=False)\n",
      "/Users/keithmoravec/miniforge3/envs/tensorflow/lib/python3.9/site-packages/sweetviz/utils.py:34: FutureWarning: The series.append method is deprecated and will be removed from pandas in a future version. Use pandas.concat instead.\n",
      "  clamped_series = clamped_series.append(other_series, ignore_index=False)\n",
      "/Users/keithmoravec/miniforge3/envs/tensorflow/lib/python3.9/site-packages/sweetviz/utils.py:34: FutureWarning: The series.append method is deprecated and will be removed from pandas in a future version. Use pandas.concat instead.\n",
      "  clamped_series = clamped_series.append(other_series, ignore_index=False)\n",
      "/Users/keithmoravec/miniforge3/envs/tensorflow/lib/python3.9/site-packages/sweetviz/graph_associations.py:223: FutureWarning: The frame.append method is deprecated and will be removed from pandas in a future version. Use pandas.concat instead.\n",
      "  new_dataframe = new_dataframe.append(pd.Series(empty_row_dict, name=feature))\n",
      "/Users/keithmoravec/miniforge3/envs/tensorflow/lib/python3.9/site-packages/sweetviz/graph_associations.py:223: FutureWarning: The frame.append method is deprecated and will be removed from pandas in a future version. Use pandas.concat instead.\n",
      "  new_dataframe = new_dataframe.append(pd.Series(empty_row_dict, name=feature))\n",
      "/Users/keithmoravec/miniforge3/envs/tensorflow/lib/python3.9/site-packages/sweetviz/graph_associations.py:223: FutureWarning: The frame.append method is deprecated and will be removed from pandas in a future version. Use pandas.concat instead.\n",
      "  new_dataframe = new_dataframe.append(pd.Series(empty_row_dict, name=feature))\n",
      "/Users/keithmoravec/miniforge3/envs/tensorflow/lib/python3.9/site-packages/sweetviz/graph_associations.py:223: FutureWarning: The frame.append method is deprecated and will be removed from pandas in a future version. Use pandas.concat instead.\n",
      "  new_dataframe = new_dataframe.append(pd.Series(empty_row_dict, name=feature))\n",
      "/Users/keithmoravec/miniforge3/envs/tensorflow/lib/python3.9/site-packages/sweetviz/graph_associations.py:223: FutureWarning: The frame.append method is deprecated and will be removed from pandas in a future version. Use pandas.concat instead.\n",
      "  new_dataframe = new_dataframe.append(pd.Series(empty_row_dict, name=feature))\n",
      "/Users/keithmoravec/miniforge3/envs/tensorflow/lib/python3.9/site-packages/sweetviz/graph_associations.py:223: FutureWarning: The frame.append method is deprecated and will be removed from pandas in a future version. Use pandas.concat instead.\n",
      "  new_dataframe = new_dataframe.append(pd.Series(empty_row_dict, name=feature))\n",
      "/Users/keithmoravec/miniforge3/envs/tensorflow/lib/python3.9/site-packages/sweetviz/graph_associations.py:223: FutureWarning: The frame.append method is deprecated and will be removed from pandas in a future version. Use pandas.concat instead.\n",
      "  new_dataframe = new_dataframe.append(pd.Series(empty_row_dict, name=feature))\n",
      "/Users/keithmoravec/miniforge3/envs/tensorflow/lib/python3.9/site-packages/sweetviz/graph_associations.py:223: FutureWarning: The frame.append method is deprecated and will be removed from pandas in a future version. Use pandas.concat instead.\n",
      "  new_dataframe = new_dataframe.append(pd.Series(empty_row_dict, name=feature))\n",
      "/Users/keithmoravec/miniforge3/envs/tensorflow/lib/python3.9/site-packages/sweetviz/graph_associations.py:223: FutureWarning: The frame.append method is deprecated and will be removed from pandas in a future version. Use pandas.concat instead.\n",
      "  new_dataframe = new_dataframe.append(pd.Series(empty_row_dict, name=feature))\n",
      "/Users/keithmoravec/miniforge3/envs/tensorflow/lib/python3.9/site-packages/sweetviz/graph_associations.py:223: FutureWarning: The frame.append method is deprecated and will be removed from pandas in a future version. Use pandas.concat instead.\n",
      "  new_dataframe = new_dataframe.append(pd.Series(empty_row_dict, name=feature))\n",
      "/Users/keithmoravec/miniforge3/envs/tensorflow/lib/python3.9/site-packages/sweetviz/graph_associations.py:223: FutureWarning: The frame.append method is deprecated and will be removed from pandas in a future version. Use pandas.concat instead.\n",
      "  new_dataframe = new_dataframe.append(pd.Series(empty_row_dict, name=feature))\n"
     ]
    },
    {
     "name": "stdout",
     "output_type": "stream",
     "text": [
      "Report Charity.html was generated! NOTEBOOK/COLAB USERS: the web browser MAY not pop up, regardless, the report IS saved in your notebook/colab files.\n"
     ]
    }
   ],
   "source": [
    "# importing sweetviz\n",
    "import sweetviz as sv\n",
    "\n",
    "#analyzing the dataset\n",
    "charity_report = sv.analyze(df)\n",
    "#display the report\n",
    "charity_report.show_html('Charity.html')"
   ]
  },
  {
   "cell_type": "code",
   "execution_count": 4,
   "metadata": {},
   "outputs": [
    {
     "name": "stderr",
     "output_type": "stream",
     "text": [
      "/var/folders/08/k5qj0k9j1dbgppb_7vzc5rnm0000gn/T/ipykernel_49895/673382915.py:2: FutureWarning: In a future version of pandas all arguments of DataFrame.drop except for the argument 'labels' will be keyword-only.\n",
      "  df = df.drop(\"EIN\", 1)\n",
      "/var/folders/08/k5qj0k9j1dbgppb_7vzc5rnm0000gn/T/ipykernel_49895/673382915.py:3: FutureWarning: In a future version of pandas all arguments of DataFrame.drop except for the argument 'labels' will be keyword-only.\n",
      "  df = df.drop(\"NAME\", 1)\n"
     ]
    }
   ],
   "source": [
    "# Drop the non-beneficial ID columns, 'EIN' and 'NAME'.\n",
    "df = df.drop(\"EIN\", 1)\n",
    "df = df.drop(\"NAME\", 1)"
   ]
  },
  {
   "cell_type": "code",
   "execution_count": 5,
   "metadata": {},
   "outputs": [
    {
     "data": {
      "text/plain": [
       "APPLICATION_TYPE            17\n",
       "AFFILIATION                  6\n",
       "CLASSIFICATION              71\n",
       "USE_CASE                     5\n",
       "ORGANIZATION                 4\n",
       "STATUS                       2\n",
       "INCOME_AMT                   9\n",
       "SPECIAL_CONSIDERATIONS       2\n",
       "ASK_AMT                   8747\n",
       "IS_SUCCESSFUL                2\n",
       "dtype: int64"
      ]
     },
     "execution_count": 5,
     "metadata": {},
     "output_type": "execute_result"
    }
   ],
   "source": [
    "# Determine the number of unique values in each column.\n",
    "df.nunique()"
   ]
  },
  {
   "cell_type": "code",
   "execution_count": 6,
   "metadata": {},
   "outputs": [
    {
     "data": {
      "text/plain": [
       "T3     27037\n",
       "T4      1542\n",
       "T6      1216\n",
       "T5      1173\n",
       "T19     1065\n",
       "T8       737\n",
       "T7       725\n",
       "T10      528\n",
       "T9       156\n",
       "T13       66\n",
       "T12       27\n",
       "T2        16\n",
       "T25        3\n",
       "T14        3\n",
       "T29        2\n",
       "T15        2\n",
       "T17        1\n",
       "Name: APPLICATION_TYPE, dtype: int64"
      ]
     },
     "execution_count": 6,
     "metadata": {},
     "output_type": "execute_result"
    }
   ],
   "source": [
    "# Look at APPLICATION_TYPE value counts for binning\n",
    "df['APPLICATION_TYPE'].value_counts()"
   ]
  },
  {
   "cell_type": "code",
   "execution_count": 7,
   "metadata": {},
   "outputs": [
    {
     "data": {
      "text/plain": [
       "T3       27037\n",
       "T4        1542\n",
       "T6        1216\n",
       "T5        1173\n",
       "T19       1065\n",
       "T8         737\n",
       "T7         725\n",
       "T10        528\n",
       "Other      276\n",
       "Name: APPLICATION_TYPE, dtype: int64"
      ]
     },
     "execution_count": 7,
     "metadata": {},
     "output_type": "execute_result"
    }
   ],
   "source": [
    "# Choose a cutoff value and create a list of application types to be replaced\n",
    "# use the variable name `application_types_to_replace`\n",
    "# Replace in dataframe\n",
    "\n",
    "application_types_to_replace = [\"T9\",\"T13\",\"T12\",\"T2\",\"T25\",\"T14\",\"T29\",\"T15\",\"T17\"]\n",
    "\n",
    "for app in application_types_to_replace:\n",
    "    df['APPLICATION_TYPE'] = df['APPLICATION_TYPE'].replace(app,\"Other\")\n",
    "\n",
    "# Check to make sure binning was successful\n",
    "df['APPLICATION_TYPE'].value_counts()"
   ]
  },
  {
   "cell_type": "code",
   "execution_count": 8,
   "metadata": {
    "tags": []
   },
   "outputs": [
    {
     "data": {
      "text/plain": [
       "C1000    17326\n",
       "C2000     6074\n",
       "C1200     4837\n",
       "Other     2261\n",
       "C3000     1918\n",
       "C2100     1883\n",
       "Name: CLASSIFICATION, dtype: int64"
      ]
     },
     "execution_count": 8,
     "metadata": {},
     "output_type": "execute_result"
    }
   ],
   "source": [
    "# Look at CLASSIFICATION value counts for binning\n",
    "\n",
    "class_df = df['CLASSIFICATION'].value_counts()\n",
    "\n",
    "classifications_to_replace = class_df[(class_df < 1000)].index\n",
    "\n",
    "# Replace in dataframe\n",
    "for cls in classifications_to_replace:\n",
    "    df['CLASSIFICATION'] = df['CLASSIFICATION'].replace(cls,\"Other\")\n",
    "    \n",
    "# Check to make sure binning was successful\n",
    "df['CLASSIFICATION'].value_counts()"
   ]
  },
  {
   "cell_type": "code",
   "execution_count": 9,
   "metadata": {},
   "outputs": [],
   "source": [
    "import numpy as np\n",
    "df['ASK_AMT'] = np.log10(df['ASK_AMT'])"
   ]
  },
  {
   "cell_type": "code",
   "execution_count": 10,
   "metadata": {},
   "outputs": [
    {
     "data": {
      "text/html": [
       "<div>\n",
       "<style scoped>\n",
       "    .dataframe tbody tr th:only-of-type {\n",
       "        vertical-align: middle;\n",
       "    }\n",
       "\n",
       "    .dataframe tbody tr th {\n",
       "        vertical-align: top;\n",
       "    }\n",
       "\n",
       "    .dataframe thead th {\n",
       "        text-align: right;\n",
       "    }\n",
       "</style>\n",
       "<table border=\"1\" class=\"dataframe\">\n",
       "  <thead>\n",
       "    <tr style=\"text-align: right;\">\n",
       "      <th></th>\n",
       "      <th>APPLICATION_TYPE</th>\n",
       "      <th>AFFILIATION</th>\n",
       "      <th>CLASSIFICATION</th>\n",
       "      <th>USE_CASE</th>\n",
       "      <th>ORGANIZATION</th>\n",
       "      <th>STATUS</th>\n",
       "      <th>INCOME_AMT</th>\n",
       "      <th>SPECIAL_CONSIDERATIONS</th>\n",
       "      <th>ASK_AMT</th>\n",
       "      <th>IS_SUCCESSFUL</th>\n",
       "    </tr>\n",
       "  </thead>\n",
       "  <tbody>\n",
       "    <tr>\n",
       "      <th>0</th>\n",
       "      <td>T10</td>\n",
       "      <td>Independent</td>\n",
       "      <td>C1000</td>\n",
       "      <td>ProductDev</td>\n",
       "      <td>Association</td>\n",
       "      <td>1</td>\n",
       "      <td>0</td>\n",
       "      <td>N</td>\n",
       "      <td>3.698970</td>\n",
       "      <td>1</td>\n",
       "    </tr>\n",
       "    <tr>\n",
       "      <th>1</th>\n",
       "      <td>T3</td>\n",
       "      <td>Independent</td>\n",
       "      <td>C2000</td>\n",
       "      <td>Preservation</td>\n",
       "      <td>Co-operative</td>\n",
       "      <td>1</td>\n",
       "      <td>1-9999</td>\n",
       "      <td>N</td>\n",
       "      <td>5.035790</td>\n",
       "      <td>1</td>\n",
       "    </tr>\n",
       "    <tr>\n",
       "      <th>2</th>\n",
       "      <td>T5</td>\n",
       "      <td>CompanySponsored</td>\n",
       "      <td>C3000</td>\n",
       "      <td>ProductDev</td>\n",
       "      <td>Association</td>\n",
       "      <td>1</td>\n",
       "      <td>0</td>\n",
       "      <td>N</td>\n",
       "      <td>3.698970</td>\n",
       "      <td>0</td>\n",
       "    </tr>\n",
       "    <tr>\n",
       "      <th>3</th>\n",
       "      <td>T3</td>\n",
       "      <td>CompanySponsored</td>\n",
       "      <td>C2000</td>\n",
       "      <td>Preservation</td>\n",
       "      <td>Trust</td>\n",
       "      <td>1</td>\n",
       "      <td>10000-24999</td>\n",
       "      <td>N</td>\n",
       "      <td>3.825556</td>\n",
       "      <td>1</td>\n",
       "    </tr>\n",
       "    <tr>\n",
       "      <th>4</th>\n",
       "      <td>T3</td>\n",
       "      <td>Independent</td>\n",
       "      <td>C1000</td>\n",
       "      <td>Heathcare</td>\n",
       "      <td>Trust</td>\n",
       "      <td>1</td>\n",
       "      <td>100000-499999</td>\n",
       "      <td>N</td>\n",
       "      <td>5.154089</td>\n",
       "      <td>1</td>\n",
       "    </tr>\n",
       "  </tbody>\n",
       "</table>\n",
       "</div>"
      ],
      "text/plain": [
       "  APPLICATION_TYPE       AFFILIATION CLASSIFICATION      USE_CASE  \\\n",
       "0              T10       Independent          C1000    ProductDev   \n",
       "1               T3       Independent          C2000  Preservation   \n",
       "2               T5  CompanySponsored          C3000    ProductDev   \n",
       "3               T3  CompanySponsored          C2000  Preservation   \n",
       "4               T3       Independent          C1000     Heathcare   \n",
       "\n",
       "   ORGANIZATION  STATUS     INCOME_AMT SPECIAL_CONSIDERATIONS   ASK_AMT  \\\n",
       "0   Association       1              0                      N  3.698970   \n",
       "1  Co-operative       1         1-9999                      N  5.035790   \n",
       "2   Association       1              0                      N  3.698970   \n",
       "3         Trust       1    10000-24999                      N  3.825556   \n",
       "4         Trust       1  100000-499999                      N  5.154089   \n",
       "\n",
       "   IS_SUCCESSFUL  \n",
       "0              1  \n",
       "1              1  \n",
       "2              0  \n",
       "3              1  \n",
       "4              1  "
      ]
     },
     "execution_count": 10,
     "metadata": {},
     "output_type": "execute_result"
    }
   ],
   "source": [
    "df.head()"
   ]
  },
  {
   "cell_type": "code",
   "execution_count": 14,
   "metadata": {
    "tags": []
   },
   "outputs": [],
   "source": [
    "# Convert categorical data to numeric with `pd.get_dummies`\n",
    "df = pd.get_dummies(df,drop_first = True)"
   ]
  },
  {
   "cell_type": "code",
   "execution_count": 15,
   "metadata": {},
   "outputs": [
    {
     "data": {
      "text/plain": [
       "['STATUS',\n",
       " 'ASK_AMT',\n",
       " 'IS_SUCCESSFUL',\n",
       " 'APPLICATION_TYPE_T10',\n",
       " 'APPLICATION_TYPE_T19',\n",
       " 'APPLICATION_TYPE_T3',\n",
       " 'APPLICATION_TYPE_T4',\n",
       " 'APPLICATION_TYPE_T5',\n",
       " 'APPLICATION_TYPE_T6',\n",
       " 'APPLICATION_TYPE_T7',\n",
       " 'APPLICATION_TYPE_T8',\n",
       " 'AFFILIATION_Family/Parent',\n",
       " 'AFFILIATION_Independent',\n",
       " 'AFFILIATION_National',\n",
       " 'AFFILIATION_Other',\n",
       " 'AFFILIATION_Regional',\n",
       " 'CLASSIFICATION_C1200',\n",
       " 'CLASSIFICATION_C2000',\n",
       " 'CLASSIFICATION_C2100',\n",
       " 'CLASSIFICATION_C3000',\n",
       " 'CLASSIFICATION_Other',\n",
       " 'USE_CASE_Heathcare',\n",
       " 'USE_CASE_Other',\n",
       " 'USE_CASE_Preservation',\n",
       " 'USE_CASE_ProductDev',\n",
       " 'ORGANIZATION_Co-operative',\n",
       " 'ORGANIZATION_Corporation',\n",
       " 'ORGANIZATION_Trust',\n",
       " 'INCOME_AMT_1-9999',\n",
       " 'INCOME_AMT_10000-24999',\n",
       " 'INCOME_AMT_100000-499999',\n",
       " 'INCOME_AMT_10M-50M',\n",
       " 'INCOME_AMT_1M-5M',\n",
       " 'INCOME_AMT_25000-99999',\n",
       " 'INCOME_AMT_50M+',\n",
       " 'INCOME_AMT_5M-10M',\n",
       " 'SPECIAL_CONSIDERATIONS_Y']"
      ]
     },
     "execution_count": 15,
     "metadata": {},
     "output_type": "execute_result"
    }
   ],
   "source": [
    "list(df)"
   ]
  },
  {
   "cell_type": "code",
   "execution_count": 16,
   "metadata": {},
   "outputs": [],
   "source": [
    "# Split our preprocessed data into our features and target arrays\n",
    "X = df.drop('IS_SUCCESSFUL',axis=1)\n",
    "y = df['IS_SUCCESSFUL']\n",
    "\n",
    "# Split the preprocessed data into a training and testing dataset\n",
    "X_train, X_test, y_train, y_test = train_test_split(X, y, random_state=78)"
   ]
  },
  {
   "cell_type": "code",
   "execution_count": 17,
   "metadata": {},
   "outputs": [],
   "source": [
    "# Create a StandardScaler instances\n",
    "scaler = StandardScaler()\n",
    "\n",
    "# Fit the StandardScaler\n",
    "X_scaler = scaler.fit(X_train)\n",
    "\n",
    "# Scale the data\n",
    "X_train_scaled = X_scaler.transform(X_train)\n",
    "X_test_scaled = X_scaler.transform(X_test)"
   ]
  },
  {
   "cell_type": "code",
   "execution_count": 18,
   "metadata": {},
   "outputs": [],
   "source": [
    "inputs = len(X.columns)"
   ]
  },
  {
   "cell_type": "markdown",
   "metadata": {
    "tags": []
   },
   "source": [
    "## Compile, Train and Evaluate the Model"
   ]
  },
  {
   "cell_type": "code",
   "execution_count": 19,
   "metadata": {
    "tags": []
   },
   "outputs": [
    {
     "name": "stdout",
     "output_type": "stream",
     "text": [
      "Metal device set to: Apple M1\n"
     ]
    },
    {
     "name": "stderr",
     "output_type": "stream",
     "text": [
      "2022-04-05 22:23:10.290777: I tensorflow/core/common_runtime/pluggable_device/pluggable_device_factory.cc:305] Could not identify NUMA node of platform GPU ID 0, defaulting to 0. Your kernel may not have been built with NUMA support.\n",
      "2022-04-05 22:23:10.291613: I tensorflow/core/common_runtime/pluggable_device/pluggable_device_factory.cc:271] Created TensorFlow device (/job:localhost/replica:0/task:0/device:GPU:0 with 0 MB memory) -> physical PluggableDevice (device: 0, name: METAL, pci bus id: <undefined>)\n"
     ]
    },
    {
     "name": "stdout",
     "output_type": "stream",
     "text": [
      "Model: \"sequential\"\n",
      "_________________________________________________________________\n",
      "Layer (type)                 Output Shape              Param #   \n",
      "=================================================================\n",
      "dense (Dense)                (None, 9)                 333       \n",
      "_________________________________________________________________\n",
      "dense_1 (Dense)              (None, 9)                 90        \n",
      "_________________________________________________________________\n",
      "dense_2 (Dense)              (None, 1)                 10        \n",
      "=================================================================\n",
      "Total params: 433\n",
      "Trainable params: 433\n",
      "Non-trainable params: 0\n",
      "_________________________________________________________________\n"
     ]
    }
   ],
   "source": [
    "# Define the model - deep neural net, i.e., the number of input features and hidden nodes for each layer.\n",
    "#  YOUR CODE GOES HERE\n",
    "\n",
    "nn = tf.keras.models.Sequential()\n",
    "\n",
    "# First hidden layer\n",
    "nn.add(tf.keras.layers.Dense(units=9, activation=\"relu\", input_dim=inputs))\n",
    "\n",
    "# Second hidden layer\n",
    "nn.add(tf.keras.layers.Dense(units=9, activation=\"relu\"))\n",
    "\n",
    "# Output layer\n",
    "nn.add(tf.keras.layers.Dense(units=1, activation=\"sigmoid\"))\n",
    "\n",
    "# Check the structure of the model\n",
    "nn.summary()"
   ]
  },
  {
   "cell_type": "code",
   "execution_count": 20,
   "metadata": {},
   "outputs": [],
   "source": [
    "# Compile the model\n",
    "nn.compile(loss=\"binary_crossentropy\", optimizer=\"adam\", metrics=[\"accuracy\"])"
   ]
  },
  {
   "cell_type": "code",
   "execution_count": 21,
   "metadata": {},
   "outputs": [
    {
     "name": "stdout",
     "output_type": "stream",
     "text": [
      "WARNING:tensorflow:`period` argument is deprecated. Please use `save_freq` to specify the frequency in number of batches seen.\n",
      "Epoch 1/10\n"
     ]
    },
    {
     "name": "stderr",
     "output_type": "stream",
     "text": [
      "2022-04-05 22:23:18.818988: I tensorflow/compiler/mlir/mlir_graph_optimization_pass.cc:176] None of the MLIR Optimization Passes are enabled (registered 2)\n",
      "2022-04-05 22:23:18.822390: W tensorflow/core/platform/profile_utils/cpu_utils.cc:128] Failed to get CPU frequency: 0 Hz\n",
      "2022-04-05 22:23:18.966810: I tensorflow/core/grappler/optimizers/custom_graph_optimizer_registry.cc:112] Plugin optimizer for device_type GPU is enabled.\n"
     ]
    },
    {
     "name": "stdout",
     "output_type": "stream",
     "text": [
      "804/804 [==============================] - 5s 4ms/step - loss: 0.6238 - accuracy: 0.6743\n",
      "Epoch 2/10\n",
      "804/804 [==============================] - 4s 4ms/step - loss: 0.5689 - accuracy: 0.7252\n",
      "Epoch 3/10\n",
      "804/804 [==============================] - 4s 5ms/step - loss: 0.5612 - accuracy: 0.7287\n",
      "Epoch 4/10\n",
      "804/804 [==============================] - 4s 4ms/step - loss: 0.5575 - accuracy: 0.7304\n",
      "Epoch 5/10\n",
      "804/804 [==============================] - 3s 4ms/step - loss: 0.5556 - accuracy: 0.7317\n",
      "Epoch 6/10\n",
      "804/804 [==============================] - 3s 4ms/step - loss: 0.5541 - accuracy: 0.7317\n",
      "Epoch 7/10\n",
      "804/804 [==============================] - 4s 4ms/step - loss: 0.5528 - accuracy: 0.7314\n",
      "Epoch 8/10\n",
      "804/804 [==============================] - 3s 4ms/step - loss: 0.5517 - accuracy: 0.7324\n",
      "Epoch 9/10\n",
      "804/804 [==============================] - 4s 4ms/step - loss: 0.5508 - accuracy: 0.7337\n",
      "Epoch 10/10\n",
      "804/804 [==============================] - 4s 4ms/step - loss: 0.5505 - accuracy: 0.7333\n"
     ]
    }
   ],
   "source": [
    "from keras.callbacks import Callback\n",
    "\n",
    "mc = tf.keras.callbacks.ModelCheckpoint('weights{epoch:08d}.h5',save_weights_only=True, period=5)\n",
    "\n",
    "# Train the model\n",
    "fit_model = nn.fit(X_train_scaled, y_train, callbacks=[mc], epochs=10)"
   ]
  },
  {
   "cell_type": "code",
   "execution_count": 22,
   "metadata": {},
   "outputs": [
    {
     "name": "stderr",
     "output_type": "stream",
     "text": [
      "2022-04-05 22:26:29.664919: I tensorflow/core/grappler/optimizers/custom_graph_optimizer_registry.cc:112] Plugin optimizer for device_type GPU is enabled.\n"
     ]
    },
    {
     "name": "stdout",
     "output_type": "stream",
     "text": [
      "268/268 - 1s - loss: 0.5540 - accuracy: 0.7278\n",
      "Loss: 0.5539629459381104, Accuracy: 0.7278134226799011\n"
     ]
    }
   ],
   "source": [
    "# Evaluate the model using the test data\n",
    "model_loss, model_accuracy = nn.evaluate(X_test_scaled,y_test,verbose=2)\n",
    "print(f\"Loss: {model_loss}, Accuracy: {model_accuracy}\")"
   ]
  },
  {
   "cell_type": "code",
   "execution_count": 23,
   "metadata": {},
   "outputs": [],
   "source": [
    "# Export our model to HDF5 file\n",
    "nn.save(\"AlphabetSoupCharity.h5\")"
   ]
  },
  {
   "cell_type": "code",
   "execution_count": null,
   "metadata": {},
   "outputs": [],
   "source": []
  },
  {
   "cell_type": "markdown",
   "metadata": {},
   "source": [
    "# Optimization Attempt #1\n",
    "* Bin ASK_AMT"
   ]
  },
  {
   "cell_type": "code",
   "execution_count": 54,
   "metadata": {
    "tags": []
   },
   "outputs": [
    {
     "name": "stderr",
     "output_type": "stream",
     "text": [
      "/var/folders/08/k5qj0k9j1dbgppb_7vzc5rnm0000gn/T/ipykernel_49895/3751610448.py:7: FutureWarning: In a future version of pandas all arguments of DataFrame.drop except for the argument 'labels' will be keyword-only.\n",
      "  df = df.drop(\"EIN\", 1)\n",
      "/var/folders/08/k5qj0k9j1dbgppb_7vzc5rnm0000gn/T/ipykernel_49895/3751610448.py:8: FutureWarning: In a future version of pandas all arguments of DataFrame.drop except for the argument 'labels' will be keyword-only.\n",
      "  df = df.drop(\"NAME\", 1)\n"
     ]
    }
   ],
   "source": [
    "#  Import and read the charity_data.csv.\n",
    "import pandas as pd \n",
    "df = pd.read_csv(\"../Resources/charity_data.csv\")\n",
    "df.head()\n",
    "\n",
    "# Drop the non-beneficial ID columns, 'EIN' and 'NAME'.\n",
    "df = df.drop(\"EIN\", 1)\n",
    "df = df.drop(\"NAME\", 1)\n",
    "\n",
    "# Choose a cutoff value and create a list of application types to be replaced\n",
    "# use the variable name `application_types_to_replace`\n",
    "# Replace in dataframe\n",
    "\n",
    "application_types_to_replace = [\"T9\",\"T13\",\"T12\",\"T2\",\"T25\",\"T14\",\"T29\",\"T15\",\"T17\"]\n",
    "\n",
    "for app in application_types_to_replace:\n",
    "    df['APPLICATION_TYPE'] = df['APPLICATION_TYPE'].replace(app,\"Other\")\n",
    "\n",
    "# Check to make sure binning was successful\n",
    "df['APPLICATION_TYPE'].value_counts()\n",
    "\n",
    "# Look at CLASSIFICATION value counts for binning\n",
    "\n",
    "class_df = df['CLASSIFICATION'].value_counts()\n",
    "\n",
    "classifications_to_replace = class_df[(class_df < 1000)].index\n",
    "\n",
    "# Replace in dataframe\n",
    "for cls in classifications_to_replace:\n",
    "    df['CLASSIFICATION'] = df['CLASSIFICATION'].replace(cls,\"Other\")\n",
    "    \n",
    "# Check to make sure binning was successful\n",
    "# df['CLASSIFICATION'].value_counts()"
   ]
  },
  {
   "cell_type": "code",
   "execution_count": 55,
   "metadata": {},
   "outputs": [],
   "source": [
    "# Bin ASK_AMT \n",
    "pd.cut(df['ASK_AMT'], 8).head()\n",
    "\n",
    "category = pd.cut(df['ASK_AMT'], 8)\n",
    "df.insert(9,'ASK_AMT_BIN',category)"
   ]
  },
  {
   "cell_type": "code",
   "execution_count": 56,
   "metadata": {},
   "outputs": [
    {
     "name": "stderr",
     "output_type": "stream",
     "text": [
      "/var/folders/08/k5qj0k9j1dbgppb_7vzc5rnm0000gn/T/ipykernel_49895/503044105.py:1: FutureWarning: In a future version of pandas all arguments of DataFrame.drop except for the argument 'labels' will be keyword-only.\n",
      "  df = df.drop(\"ASK_AMT\", 1)\n"
     ]
    }
   ],
   "source": [
    "df = df.drop(\"ASK_AMT\", 1)"
   ]
  },
  {
   "cell_type": "code",
   "execution_count": 57,
   "metadata": {},
   "outputs": [
    {
     "data": {
      "text/plain": [
       "APPLICATION_TYPE          9\n",
       "AFFILIATION               6\n",
       "CLASSIFICATION            6\n",
       "USE_CASE                  5\n",
       "ORGANIZATION              4\n",
       "STATUS                    2\n",
       "INCOME_AMT                9\n",
       "SPECIAL_CONSIDERATIONS    2\n",
       "ASK_AMT_BIN               7\n",
       "IS_SUCCESSFUL             2\n",
       "dtype: int64"
      ]
     },
     "execution_count": 57,
     "metadata": {},
     "output_type": "execute_result"
    }
   ],
   "source": [
    "# Determine the number of unique values in each column.\n",
    "df.nunique()"
   ]
  },
  {
   "cell_type": "code",
   "execution_count": 58,
   "metadata": {},
   "outputs": [],
   "source": [
    "# Convert categorical data to numeric with `pd.get_dummies`\n",
    "df = pd.get_dummies(df,drop_first = True)"
   ]
  },
  {
   "cell_type": "code",
   "execution_count": 59,
   "metadata": {},
   "outputs": [
    {
     "data": {
      "text/plain": [
       "['STATUS',\n",
       " 'IS_SUCCESSFUL',\n",
       " 'APPLICATION_TYPE_T10',\n",
       " 'APPLICATION_TYPE_T19',\n",
       " 'APPLICATION_TYPE_T3',\n",
       " 'APPLICATION_TYPE_T4',\n",
       " 'APPLICATION_TYPE_T5',\n",
       " 'APPLICATION_TYPE_T6',\n",
       " 'APPLICATION_TYPE_T7',\n",
       " 'APPLICATION_TYPE_T8',\n",
       " 'AFFILIATION_Family/Parent',\n",
       " 'AFFILIATION_Independent',\n",
       " 'AFFILIATION_National',\n",
       " 'AFFILIATION_Other',\n",
       " 'AFFILIATION_Regional',\n",
       " 'CLASSIFICATION_C1200',\n",
       " 'CLASSIFICATION_C2000',\n",
       " 'CLASSIFICATION_C2100',\n",
       " 'CLASSIFICATION_C3000',\n",
       " 'CLASSIFICATION_Other',\n",
       " 'USE_CASE_Heathcare',\n",
       " 'USE_CASE_Other',\n",
       " 'USE_CASE_Preservation',\n",
       " 'USE_CASE_ProductDev',\n",
       " 'ORGANIZATION_Co-operative',\n",
       " 'ORGANIZATION_Corporation',\n",
       " 'ORGANIZATION_Trust',\n",
       " 'INCOME_AMT_1-9999',\n",
       " 'INCOME_AMT_10000-24999',\n",
       " 'INCOME_AMT_100000-499999',\n",
       " 'INCOME_AMT_10M-50M',\n",
       " 'INCOME_AMT_1M-5M',\n",
       " 'INCOME_AMT_25000-99999',\n",
       " 'INCOME_AMT_50M+',\n",
       " 'INCOME_AMT_5M-10M',\n",
       " 'SPECIAL_CONSIDERATIONS_Y',\n",
       " 'ASK_AMT_BIN_(1074730167.5, 2149455335.0]',\n",
       " 'ASK_AMT_BIN_(2149455335.0, 3224180502.5]',\n",
       " 'ASK_AMT_BIN_(3224180502.5, 4298905670.0]',\n",
       " 'ASK_AMT_BIN_(4298905670.0, 5373630837.5]',\n",
       " 'ASK_AMT_BIN_(5373630837.5, 6448356005.0]',\n",
       " 'ASK_AMT_BIN_(6448356005.0, 7523081172.5]',\n",
       " 'ASK_AMT_BIN_(7523081172.5, 8597806340.0]']"
      ]
     },
     "execution_count": 59,
     "metadata": {},
     "output_type": "execute_result"
    }
   ],
   "source": [
    "list(df)"
   ]
  },
  {
   "cell_type": "code",
   "execution_count": 60,
   "metadata": {},
   "outputs": [],
   "source": [
    "# Split our preprocessed data into our features and target arrays\n",
    "X = df.drop('IS_SUCCESSFUL',axis=1)\n",
    "y = df['IS_SUCCESSFUL']\n",
    "\n",
    "# Split the preprocessed data into a training and testing dataset\n",
    "X_train, X_test, y_train, y_test = train_test_split(X, y, random_state=78)"
   ]
  },
  {
   "cell_type": "code",
   "execution_count": 61,
   "metadata": {},
   "outputs": [],
   "source": [
    "# Create a StandardScaler instances\n",
    "scaler = StandardScaler()\n",
    "\n",
    "# Fit the StandardScaler\n",
    "X_scaler = scaler.fit(X_train)\n",
    "\n",
    "# Scale the data\n",
    "X_train_scaled = X_scaler.transform(X_train)\n",
    "X_test_scaled = X_scaler.transform(X_test)"
   ]
  },
  {
   "cell_type": "code",
   "execution_count": 62,
   "metadata": {},
   "outputs": [],
   "source": [
    "inputs = len(X.columns)"
   ]
  },
  {
   "cell_type": "markdown",
   "metadata": {},
   "source": [
    "# Compile, Train and Evaluate the Model"
   ]
  },
  {
   "cell_type": "code",
   "execution_count": 63,
   "metadata": {},
   "outputs": [
    {
     "name": "stdout",
     "output_type": "stream",
     "text": [
      "Model: \"sequential_1\"\n",
      "_________________________________________________________________\n",
      "Layer (type)                 Output Shape              Param #   \n",
      "=================================================================\n",
      "dense_3 (Dense)              (None, 9)                 387       \n",
      "_________________________________________________________________\n",
      "dense_4 (Dense)              (None, 9)                 90        \n",
      "_________________________________________________________________\n",
      "dense_5 (Dense)              (None, 1)                 10        \n",
      "=================================================================\n",
      "Total params: 487\n",
      "Trainable params: 487\n",
      "Non-trainable params: 0\n",
      "_________________________________________________________________\n"
     ]
    }
   ],
   "source": [
    "# Define the model - deep neural net, i.e., the number of input features and hidden nodes for each layer.\n",
    "#  YOUR CODE GOES HERE\n",
    "\n",
    "nn = tf.keras.models.Sequential()\n",
    "\n",
    "# First hidden layer\n",
    "nn.add(tf.keras.layers.Dense(units=9, activation=\"relu\", input_dim=inputs))\n",
    "\n",
    "# Second hidden layer\n",
    "nn.add(tf.keras.layers.Dense(units=9, activation=\"relu\"))\n",
    "\n",
    "# Output layer\n",
    "nn.add(tf.keras.layers.Dense(units=1, activation=\"sigmoid\"))\n",
    "\n",
    "# Check the structure of the model\n",
    "nn.summary()"
   ]
  },
  {
   "cell_type": "code",
   "execution_count": 64,
   "metadata": {},
   "outputs": [],
   "source": [
    "# Compile the model\n",
    "nn.compile(loss=\"binary_crossentropy\", optimizer=\"adam\", metrics=[\"accuracy\"])"
   ]
  },
  {
   "cell_type": "code",
   "execution_count": 65,
   "metadata": {},
   "outputs": [
    {
     "name": "stdout",
     "output_type": "stream",
     "text": [
      "WARNING:tensorflow:`period` argument is deprecated. Please use `save_freq` to specify the frequency in number of batches seen.\n",
      "Epoch 1/10\n",
      " 24/804 [..............................] - ETA: 3s - loss: 0.7058 - accuracy: 0.4948"
     ]
    },
    {
     "name": "stderr",
     "output_type": "stream",
     "text": [
      "2022-04-05 23:07:27.317043: I tensorflow/core/grappler/optimizers/custom_graph_optimizer_registry.cc:112] Plugin optimizer for device_type GPU is enabled.\n"
     ]
    },
    {
     "name": "stdout",
     "output_type": "stream",
     "text": [
      "804/804 [==============================] - 4s 4ms/step - loss: 0.6046 - accuracy: 0.6954\n",
      "Epoch 2/10\n",
      "804/804 [==============================] - 4s 4ms/step - loss: 0.5664 - accuracy: 0.7205\n",
      "Epoch 3/10\n",
      "804/804 [==============================] - 4s 5ms/step - loss: 0.5607 - accuracy: 0.7262\n",
      "Epoch 4/10\n",
      "804/804 [==============================] - 4s 4ms/step - loss: 0.5578 - accuracy: 0.7281\n",
      "Epoch 5/10\n",
      "804/804 [==============================] - 4s 5ms/step - loss: 0.5556 - accuracy: 0.7270\n",
      "Epoch 6/10\n",
      "804/804 [==============================] - 4s 4ms/step - loss: 0.5544 - accuracy: 0.7280\n",
      "Epoch 7/10\n",
      "804/804 [==============================] - 4s 4ms/step - loss: 0.5530 - accuracy: 0.7293\n",
      "Epoch 8/10\n",
      "804/804 [==============================] - 3s 4ms/step - loss: 0.5523 - accuracy: 0.7282\n",
      "Epoch 9/10\n",
      "804/804 [==============================] - 4s 4ms/step - loss: 0.5517 - accuracy: 0.7283\n",
      "Epoch 10/10\n",
      "804/804 [==============================] - 4s 4ms/step - loss: 0.5513 - accuracy: 0.7281\n"
     ]
    }
   ],
   "source": [
    "from keras.callbacks import Callback\n",
    "\n",
    "mc = tf.keras.callbacks.ModelCheckpoint('weights{epoch:08d}.h5',save_weights_only=True, period=5)\n",
    "\n",
    "# Train the model\n",
    "fit_model = nn.fit(X_train_scaled, y_train, callbacks=[mc], epochs=10)"
   ]
  },
  {
   "cell_type": "code",
   "execution_count": 66,
   "metadata": {},
   "outputs": [
    {
     "name": "stderr",
     "output_type": "stream",
     "text": [
      "2022-04-05 23:08:15.516455: I tensorflow/core/grappler/optimizers/custom_graph_optimizer_registry.cc:112] Plugin optimizer for device_type GPU is enabled.\n"
     ]
    },
    {
     "name": "stdout",
     "output_type": "stream",
     "text": [
      "268/268 - 1s - loss: 0.5561 - accuracy: 0.7231\n",
      "Loss: 0.5561438798904419, Accuracy: 0.7231487035751343\n"
     ]
    }
   ],
   "source": [
    "# Evaluate the model using the test data\n",
    "model_loss, model_accuracy = nn.evaluate(X_test_scaled,y_test,verbose=2)\n",
    "print(f\"Loss: {model_loss}, Accuracy: {model_accuracy}\")"
   ]
  },
  {
   "cell_type": "code",
   "execution_count": 68,
   "metadata": {},
   "outputs": [],
   "source": [
    "# Export our model to HDF5 file\n",
    "nn.save(\"AlphabetSoupCharity_1st_opt.h5\")"
   ]
  },
  {
   "cell_type": "markdown",
   "metadata": {
    "tags": []
   },
   "source": [
    "### 1st Pass Accuracy - Accuracy: 0.7278134226799011\n",
    "### With Binning Ask_Amt - Accuracy: 0.7231487035751343 (Worse)"
   ]
  },
  {
   "cell_type": "markdown",
   "metadata": {},
   "source": [
    "# Optimization Attempt # 2 \n",
    "### - Add Additional Neurons (9 to 36)"
   ]
  },
  {
   "cell_type": "code",
   "execution_count": 70,
   "metadata": {},
   "outputs": [
    {
     "name": "stdout",
     "output_type": "stream",
     "text": [
      "Model: \"sequential_2\"\n",
      "_________________________________________________________________\n",
      "Layer (type)                 Output Shape              Param #   \n",
      "=================================================================\n",
      "dense_6 (Dense)              (None, 36)                1548      \n",
      "_________________________________________________________________\n",
      "dense_7 (Dense)              (None, 36)                1332      \n",
      "_________________________________________________________________\n",
      "dense_8 (Dense)              (None, 1)                 37        \n",
      "=================================================================\n",
      "Total params: 2,917\n",
      "Trainable params: 2,917\n",
      "Non-trainable params: 0\n",
      "_________________________________________________________________\n"
     ]
    }
   ],
   "source": [
    "# Define the model - deep neural net, i.e., the number of input features and hidden nodes for each layer.\n",
    "#  YOUR CODE GOES HERE\n",
    "\n",
    "nn = tf.keras.models.Sequential()\n",
    "\n",
    "# First hidden layer\n",
    "nn.add(tf.keras.layers.Dense(units=36, activation=\"relu\", input_dim=inputs))\n",
    "\n",
    "# Second hidden layer\n",
    "nn.add(tf.keras.layers.Dense(units=36, activation=\"relu\"))\n",
    "\n",
    "# Output layer\n",
    "nn.add(tf.keras.layers.Dense(units=1, activation=\"sigmoid\"))\n",
    "\n",
    "# Check the structure of the model\n",
    "nn.summary()"
   ]
  },
  {
   "cell_type": "code",
   "execution_count": 71,
   "metadata": {},
   "outputs": [],
   "source": [
    "# Compile the model\n",
    "nn.compile(loss=\"binary_crossentropy\", optimizer=\"adam\", metrics=[\"accuracy\"])"
   ]
  },
  {
   "cell_type": "code",
   "execution_count": 72,
   "metadata": {},
   "outputs": [
    {
     "name": "stdout",
     "output_type": "stream",
     "text": [
      "WARNING:tensorflow:`period` argument is deprecated. Please use `save_freq` to specify the frequency in number of batches seen.\n",
      "Epoch 1/10\n",
      " 25/804 [..............................] - ETA: 3s - loss: 0.7371 - accuracy: 0.5425"
     ]
    },
    {
     "name": "stderr",
     "output_type": "stream",
     "text": [
      "2022-04-05 23:15:26.348661: I tensorflow/core/grappler/optimizers/custom_graph_optimizer_registry.cc:112] Plugin optimizer for device_type GPU is enabled.\n"
     ]
    },
    {
     "name": "stdout",
     "output_type": "stream",
     "text": [
      "804/804 [==============================] - 4s 4ms/step - loss: 0.5843 - accuracy: 0.7129\n",
      "Epoch 2/10\n",
      "804/804 [==============================] - 4s 4ms/step - loss: 0.5587 - accuracy: 0.7288\n",
      "Epoch 3/10\n",
      "804/804 [==============================] - 4s 4ms/step - loss: 0.5553 - accuracy: 0.7299\n",
      "Epoch 4/10\n",
      "804/804 [==============================] - 3s 4ms/step - loss: 0.5524 - accuracy: 0.7311\n",
      "Epoch 5/10\n",
      "804/804 [==============================] - 4s 4ms/step - loss: 0.5515 - accuracy: 0.7315\n",
      "Epoch 6/10\n",
      "804/804 [==============================] - 4s 5ms/step - loss: 0.5503 - accuracy: 0.7317\n",
      "Epoch 7/10\n",
      "804/804 [==============================] - 4s 4ms/step - loss: 0.5489 - accuracy: 0.7315\n",
      "Epoch 8/10\n",
      "804/804 [==============================] - 3s 4ms/step - loss: 0.5485 - accuracy: 0.7323\n",
      "Epoch 9/10\n",
      "804/804 [==============================] - 4s 4ms/step - loss: 0.5481 - accuracy: 0.7327\n",
      "Epoch 10/10\n",
      "804/804 [==============================] - 4s 4ms/step - loss: 0.5476 - accuracy: 0.7344\n"
     ]
    }
   ],
   "source": [
    "from keras.callbacks import Callback\n",
    "\n",
    "mc = tf.keras.callbacks.ModelCheckpoint('weights{epoch:08d}.h5',save_weights_only=True, period=5)\n",
    "\n",
    "# Train the model\n",
    "fit_model = nn.fit(X_train_scaled, y_train, callbacks=[mc], epochs=10)"
   ]
  },
  {
   "cell_type": "code",
   "execution_count": 73,
   "metadata": {},
   "outputs": [
    {
     "name": "stderr",
     "output_type": "stream",
     "text": [
      "2022-04-05 23:16:07.501219: I tensorflow/core/grappler/optimizers/custom_graph_optimizer_registry.cc:112] Plugin optimizer for device_type GPU is enabled.\n"
     ]
    },
    {
     "name": "stdout",
     "output_type": "stream",
     "text": [
      "268/268 - 1s - loss: 0.5581 - accuracy: 0.7276\n",
      "Loss: 0.5581139922142029, Accuracy: 0.727580189704895\n"
     ]
    }
   ],
   "source": [
    "# Evaluate the model using the test data\n",
    "model_loss, model_accuracy = nn.evaluate(X_test_scaled,y_test,verbose=2)\n",
    "print(f\"Loss: {model_loss}, Accuracy: {model_accuracy}\")"
   ]
  },
  {
   "cell_type": "code",
   "execution_count": 74,
   "metadata": {},
   "outputs": [],
   "source": [
    "# Export our model to HDF5 file\n",
    "nn.save(\"AlphabetSoupCharity_2nd_opt.h5\")"
   ]
  },
  {
   "cell_type": "markdown",
   "metadata": {},
   "source": [
    "* 1st Pass Accuracy - Accuracy: 0.7278134226799011\n",
    "* With Binning Ask_Amt - Accuracy: 0.7231487035751343 (Worse)\n",
    "* With 36 Neurons in each layer (was 9) - Accuracy: 0.727580189704895 (Worse than 1st pass)\n"
   ]
  },
  {
   "cell_type": "markdown",
   "metadata": {},
   "source": [
    "# Optimization Attempt # 2 \n",
    "### - Add 3rd Layer "
   ]
  },
  {
   "cell_type": "code",
   "execution_count": 75,
   "metadata": {},
   "outputs": [
    {
     "name": "stdout",
     "output_type": "stream",
     "text": [
      "Model: \"sequential_3\"\n",
      "_________________________________________________________________\n",
      "Layer (type)                 Output Shape              Param #   \n",
      "=================================================================\n",
      "dense_9 (Dense)              (None, 9)                 387       \n",
      "_________________________________________________________________\n",
      "dense_10 (Dense)             (None, 9)                 90        \n",
      "_________________________________________________________________\n",
      "dense_11 (Dense)             (None, 9)                 90        \n",
      "_________________________________________________________________\n",
      "dense_12 (Dense)             (None, 1)                 10        \n",
      "=================================================================\n",
      "Total params: 577\n",
      "Trainable params: 577\n",
      "Non-trainable params: 0\n",
      "_________________________________________________________________\n"
     ]
    }
   ],
   "source": [
    "# Define the model - deep neural net, i.e., the number of input features and hidden nodes for each layer.\n",
    "#  YOUR CODE GOES HERE\n",
    "\n",
    "nn = tf.keras.models.Sequential()\n",
    "\n",
    "# First hidden layer\n",
    "nn.add(tf.keras.layers.Dense(units=9, activation=\"relu\", input_dim=inputs))\n",
    "\n",
    "# Second hidden layer\n",
    "nn.add(tf.keras.layers.Dense(units=9, activation=\"relu\"))\n",
    "\n",
    "# Third hidden layer\n",
    "nn.add(tf.keras.layers.Dense(units=9, activation=\"relu\"))\n",
    "\n",
    "\n",
    "# Output layer\n",
    "nn.add(tf.keras.layers.Dense(units=1, activation=\"sigmoid\"))\n",
    "\n",
    "# Check the structure of the model\n",
    "nn.summary()"
   ]
  },
  {
   "cell_type": "code",
   "execution_count": 76,
   "metadata": {},
   "outputs": [],
   "source": [
    "# Compile the model\n",
    "nn.compile(loss=\"binary_crossentropy\", optimizer=\"adam\", metrics=[\"accuracy\"])"
   ]
  },
  {
   "cell_type": "code",
   "execution_count": 77,
   "metadata": {},
   "outputs": [
    {
     "name": "stdout",
     "output_type": "stream",
     "text": [
      "WARNING:tensorflow:`period` argument is deprecated. Please use `save_freq` to specify the frequency in number of batches seen.\n",
      "Epoch 1/10\n",
      " 22/804 [..............................] - ETA: 3s - loss: 0.6932 - accuracy: 0.5327"
     ]
    },
    {
     "name": "stderr",
     "output_type": "stream",
     "text": [
      "2022-04-05 23:19:28.281102: I tensorflow/core/grappler/optimizers/custom_graph_optimizer_registry.cc:112] Plugin optimizer for device_type GPU is enabled.\n"
     ]
    },
    {
     "name": "stdout",
     "output_type": "stream",
     "text": [
      "804/804 [==============================] - 4s 5ms/step - loss: 0.6026 - accuracy: 0.6939\n",
      "Epoch 2/10\n",
      "804/804 [==============================] - 4s 5ms/step - loss: 0.5632 - accuracy: 0.7251\n",
      "Epoch 3/10\n",
      "804/804 [==============================] - 4s 5ms/step - loss: 0.5584 - accuracy: 0.7268\n",
      "Epoch 4/10\n",
      "804/804 [==============================] - 4s 5ms/step - loss: 0.5567 - accuracy: 0.7290\n",
      "Epoch 5/10\n",
      "804/804 [==============================] - 4s 5ms/step - loss: 0.5554 - accuracy: 0.7277\n",
      "Epoch 6/10\n",
      "804/804 [==============================] - 4s 5ms/step - loss: 0.5543 - accuracy: 0.7290\n",
      "Epoch 7/10\n",
      "804/804 [==============================] - 4s 5ms/step - loss: 0.5536 - accuracy: 0.7296\n",
      "Epoch 8/10\n",
      "804/804 [==============================] - 4s 5ms/step - loss: 0.5527 - accuracy: 0.7307\n",
      "Epoch 9/10\n",
      "804/804 [==============================] - 4s 5ms/step - loss: 0.5519 - accuracy: 0.7307\n",
      "Epoch 10/10\n",
      "804/804 [==============================] - 4s 5ms/step - loss: 0.5515 - accuracy: 0.7315\n"
     ]
    }
   ],
   "source": [
    "from keras.callbacks import Callback\n",
    "\n",
    "mc = tf.keras.callbacks.ModelCheckpoint('weights{epoch:08d}.h5',save_weights_only=True, period=5)\n",
    "\n",
    "# Train the model\n",
    "fit_model = nn.fit(X_train_scaled, y_train, callbacks=[mc], epochs=10)"
   ]
  },
  {
   "cell_type": "code",
   "execution_count": 78,
   "metadata": {},
   "outputs": [
    {
     "name": "stderr",
     "output_type": "stream",
     "text": [
      "2022-04-05 23:20:11.477776: I tensorflow/core/grappler/optimizers/custom_graph_optimizer_registry.cc:112] Plugin optimizer for device_type GPU is enabled.\n"
     ]
    },
    {
     "name": "stdout",
     "output_type": "stream",
     "text": [
      "268/268 - 1s - loss: 0.5576 - accuracy: 0.7245\n",
      "Loss: 0.5576378107070923, Accuracy: 0.7245481014251709\n"
     ]
    }
   ],
   "source": [
    "# Evaluate the model using the test data\n",
    "model_loss, model_accuracy = nn.evaluate(X_test_scaled,y_test,verbose=2)\n",
    "print(f\"Loss: {model_loss}, Accuracy: {model_accuracy}\")"
   ]
  },
  {
   "cell_type": "code",
   "execution_count": 79,
   "metadata": {},
   "outputs": [],
   "source": [
    "# Export our model to HDF5 file\n",
    "nn.save(\"AlphabetSoupCharity_3rd_opt.h5\")"
   ]
  },
  {
   "cell_type": "markdown",
   "metadata": {},
   "source": [
    "* 1st Pass Accuracy - Accuracy: 0.7278134226799011\n",
    "* With Binning Ask_Amt - Accuracy: 0.7231487035751343 (Worse)\n",
    "* With 36 Neurons in each layer (was 9) - Accuracy: 0.727580189704895 (Worse than 1st pass)\n",
    "* With 3 layers (was 2) - Accuracy: 0.7245481014251709 (Worst than 1st pass)"
   ]
  },
  {
   "cell_type": "markdown",
   "metadata": {},
   "source": [
    "# Optimization Attempt # 3\n",
    "### - Change hidden layer activation function \"Relu\" to \"Tanh\""
   ]
  },
  {
   "cell_type": "code",
   "execution_count": 82,
   "metadata": {
    "tags": []
   },
   "outputs": [
    {
     "name": "stdout",
     "output_type": "stream",
     "text": [
      "Model: \"sequential_4\"\n",
      "_________________________________________________________________\n",
      "Layer (type)                 Output Shape              Param #   \n",
      "=================================================================\n",
      "dense_13 (Dense)             (None, 9)                 387       \n",
      "_________________________________________________________________\n",
      "dense_14 (Dense)             (None, 9)                 90        \n",
      "_________________________________________________________________\n",
      "dense_15 (Dense)             (None, 9)                 90        \n",
      "_________________________________________________________________\n",
      "dense_16 (Dense)             (None, 1)                 10        \n",
      "=================================================================\n",
      "Total params: 577\n",
      "Trainable params: 577\n",
      "Non-trainable params: 0\n",
      "_________________________________________________________________\n"
     ]
    }
   ],
   "source": [
    "# Define the model - deep neural net, i.e., the number of input features and hidden nodes for each layer.\n",
    "#  YOUR CODE GOES HERE\n",
    "\n",
    "nn = tf.keras.models.Sequential()\n",
    "\n",
    "# First hidden layer\n",
    "nn.add(tf.keras.layers.Dense(units=9, activation=\"tanh\", input_dim=inputs))\n",
    "\n",
    "# Second hidden layer\n",
    "nn.add(tf.keras.layers.Dense(units=9, activation=\"tanh\"))\n",
    "\n",
    "# Third hidden layer\n",
    "nn.add(tf.keras.layers.Dense(units=9, activation=\"tanh\"))\n",
    "\n",
    "\n",
    "# Output layer\n",
    "nn.add(tf.keras.layers.Dense(units=1, activation=\"sigmoid\"))\n",
    "\n",
    "# Check the structure of the model\n",
    "nn.summary()"
   ]
  },
  {
   "cell_type": "code",
   "execution_count": 83,
   "metadata": {},
   "outputs": [],
   "source": [
    "# Compile the model\n",
    "nn.compile(loss=\"binary_crossentropy\", optimizer=\"adam\", metrics=[\"accuracy\"])"
   ]
  },
  {
   "cell_type": "code",
   "execution_count": 84,
   "metadata": {},
   "outputs": [
    {
     "name": "stdout",
     "output_type": "stream",
     "text": [
      "WARNING:tensorflow:`period` argument is deprecated. Please use `save_freq` to specify the frequency in number of batches seen.\n",
      "Epoch 1/10\n",
      " 12/804 [..............................] - ETA: 3s - loss: 0.7425 - accuracy: 0.4714  "
     ]
    },
    {
     "name": "stderr",
     "output_type": "stream",
     "text": [
      "2022-04-05 23:24:47.938603: I tensorflow/core/grappler/optimizers/custom_graph_optimizer_registry.cc:112] Plugin optimizer for device_type GPU is enabled.\n"
     ]
    },
    {
     "name": "stdout",
     "output_type": "stream",
     "text": [
      "804/804 [==============================] - 4s 5ms/step - loss: 0.6007 - accuracy: 0.6959\n",
      "Epoch 2/10\n",
      "804/804 [==============================] - 4s 5ms/step - loss: 0.5655 - accuracy: 0.7261\n",
      "Epoch 3/10\n",
      "804/804 [==============================] - 4s 5ms/step - loss: 0.5591 - accuracy: 0.7277\n",
      "Epoch 4/10\n",
      "804/804 [==============================] - 4s 5ms/step - loss: 0.5563 - accuracy: 0.7299\n",
      "Epoch 5/10\n",
      "804/804 [==============================] - 4s 5ms/step - loss: 0.5547 - accuracy: 0.7298\n",
      "Epoch 6/10\n",
      "804/804 [==============================] - 4s 5ms/step - loss: 0.5535 - accuracy: 0.7317\n",
      "Epoch 7/10\n",
      "804/804 [==============================] - 4s 5ms/step - loss: 0.5526 - accuracy: 0.7320\n",
      "Epoch 8/10\n",
      "804/804 [==============================] - 4s 5ms/step - loss: 0.5520 - accuracy: 0.7320\n",
      "Epoch 9/10\n",
      "804/804 [==============================] - 4s 5ms/step - loss: 0.5509 - accuracy: 0.7322\n",
      "Epoch 10/10\n",
      "804/804 [==============================] - 4s 5ms/step - loss: 0.5505 - accuracy: 0.7322\n"
     ]
    }
   ],
   "source": [
    "from keras.callbacks import Callback\n",
    "\n",
    "mc = tf.keras.callbacks.ModelCheckpoint('weights{epoch:08d}.h5',save_weights_only=True, period=5)\n",
    "\n",
    "# Train the model\n",
    "fit_model = nn.fit(X_train_scaled, y_train, callbacks=[mc], epochs=10)"
   ]
  },
  {
   "cell_type": "code",
   "execution_count": 87,
   "metadata": {},
   "outputs": [
    {
     "name": "stdout",
     "output_type": "stream",
     "text": [
      "268/268 - 1s - loss: 0.5533 - accuracy: 0.7264\n",
      "Loss: 0.5533052086830139, Accuracy: 0.7264139652252197\n"
     ]
    }
   ],
   "source": [
    "# Evaluate the model using the test data\n",
    "model_loss, model_accuracy = nn.evaluate(X_test_scaled,y_test,verbose=2)\n",
    "print(f\"Loss: {model_loss}, Accuracy: {model_accuracy}\")"
   ]
  },
  {
   "cell_type": "code",
   "execution_count": 88,
   "metadata": {},
   "outputs": [],
   "source": [
    "# Export our model to HDF5 file\n",
    "nn.save(\"AlphabetSoupCharity_4th_opt.h5\")"
   ]
  },
  {
   "cell_type": "markdown",
   "metadata": {},
   "source": [
    "* 1st Pass Accuracy - Accuracy: 0.7278134226799011\n",
    "* With Binning Ask_Amt - Accuracy: 0.7231487035751343 (Worse)\n",
    "* With 36 Neurons in each layer (was 9) - Accuracy: 0.727580189704895 (Worse than 1st pass)\n",
    "* With 3 layers (was 2) - Accuracy: 0.7245481014251709 (Worse than 1st pass)\n",
    "* With tanh activation fuction - Accuracy: 0.7264139652252197 (Worse than 1st pass)"
   ]
  },
  {
   "cell_type": "markdown",
   "metadata": {},
   "source": [
    "# Optimization Attempt # 3\n",
    "### - Single hidden layer\"¶"
   ]
  },
  {
   "cell_type": "code",
   "execution_count": 89,
   "metadata": {},
   "outputs": [
    {
     "name": "stdout",
     "output_type": "stream",
     "text": [
      "Model: \"sequential_5\"\n",
      "_________________________________________________________________\n",
      "Layer (type)                 Output Shape              Param #   \n",
      "=================================================================\n",
      "dense_17 (Dense)             (None, 9)                 387       \n",
      "_________________________________________________________________\n",
      "dense_18 (Dense)             (None, 1)                 10        \n",
      "=================================================================\n",
      "Total params: 397\n",
      "Trainable params: 397\n",
      "Non-trainable params: 0\n",
      "_________________________________________________________________\n"
     ]
    }
   ],
   "source": [
    "# Define the model - deep neural net, i.e., the number of input features and hidden nodes for each layer.\n",
    "#  YOUR CODE GOES HERE\n",
    "\n",
    "nn = tf.keras.models.Sequential()\n",
    "\n",
    "# First hidden layer\n",
    "nn.add(tf.keras.layers.Dense(units=9, activation=\"relu\", input_dim=inputs))\n",
    "\n",
    "# Output layer\n",
    "nn.add(tf.keras.layers.Dense(units=1, activation=\"sigmoid\"))\n",
    "\n",
    "# Check the structure of the model\n",
    "nn.summary()"
   ]
  },
  {
   "cell_type": "code",
   "execution_count": 90,
   "metadata": {},
   "outputs": [],
   "source": [
    "# Compile the model\n",
    "nn.compile(loss=\"binary_crossentropy\", optimizer=\"adam\", metrics=[\"accuracy\"])"
   ]
  },
  {
   "cell_type": "code",
   "execution_count": 91,
   "metadata": {},
   "outputs": [
    {
     "name": "stdout",
     "output_type": "stream",
     "text": [
      "WARNING:tensorflow:`period` argument is deprecated. Please use `save_freq` to specify the frequency in number of batches seen.\n",
      "Epoch 1/10\n",
      " 26/804 [..............................] - ETA: 3s - loss: 0.7362 - accuracy: 0.6022"
     ]
    },
    {
     "name": "stderr",
     "output_type": "stream",
     "text": [
      "2022-04-05 23:28:11.251539: I tensorflow/core/grappler/optimizers/custom_graph_optimizer_registry.cc:112] Plugin optimizer for device_type GPU is enabled.\n"
     ]
    },
    {
     "name": "stdout",
     "output_type": "stream",
     "text": [
      "804/804 [==============================] - 3s 4ms/step - loss: 0.6235 - accuracy: 0.6842\n",
      "Epoch 2/10\n",
      "804/804 [==============================] - 3s 4ms/step - loss: 0.5729 - accuracy: 0.7242\n",
      "Epoch 3/10\n",
      "804/804 [==============================] - 3s 4ms/step - loss: 0.5647 - accuracy: 0.7269\n",
      "Epoch 4/10\n",
      "804/804 [==============================] - 3s 4ms/step - loss: 0.5610 - accuracy: 0.7278\n",
      "Epoch 5/10\n",
      "804/804 [==============================] - 3s 4ms/step - loss: 0.5587 - accuracy: 0.7278\n",
      "Epoch 6/10\n",
      "804/804 [==============================] - 3s 4ms/step - loss: 0.5574 - accuracy: 0.7278\n",
      "Epoch 7/10\n",
      "804/804 [==============================] - 3s 4ms/step - loss: 0.5562 - accuracy: 0.7292\n",
      "Epoch 8/10\n",
      "804/804 [==============================] - 3s 4ms/step - loss: 0.5553 - accuracy: 0.7294\n",
      "Epoch 9/10\n",
      "804/804 [==============================] - 3s 4ms/step - loss: 0.5546 - accuracy: 0.7299\n",
      "Epoch 10/10\n",
      "804/804 [==============================] - 3s 4ms/step - loss: 0.5539 - accuracy: 0.7301\n"
     ]
    }
   ],
   "source": [
    "from keras.callbacks import Callback\n",
    "\n",
    "mc = tf.keras.callbacks.ModelCheckpoint('weights{epoch:08d}.h5',save_weights_only=True, period=5)\n",
    "\n",
    "# Train the model\n",
    "fit_model = nn.fit(X_train_scaled, y_train, callbacks=[mc], epochs=10)"
   ]
  },
  {
   "cell_type": "code",
   "execution_count": 92,
   "metadata": {},
   "outputs": [
    {
     "name": "stderr",
     "output_type": "stream",
     "text": [
      "2022-04-05 23:28:50.423814: I tensorflow/core/grappler/optimizers/custom_graph_optimizer_registry.cc:112] Plugin optimizer for device_type GPU is enabled.\n"
     ]
    },
    {
     "name": "stdout",
     "output_type": "stream",
     "text": [
      "268/268 - 1s - loss: 0.5654 - accuracy: 0.7242\n",
      "Loss: 0.5653608441352844, Accuracy: 0.7241982221603394\n"
     ]
    }
   ],
   "source": [
    "# Evaluate the model using the test data\n",
    "model_loss, model_accuracy = nn.evaluate(X_test_scaled,y_test,verbose=2)\n",
    "print(f\"Loss: {model_loss}, Accuracy: {model_accuracy}\")"
   ]
  },
  {
   "cell_type": "code",
   "execution_count": 93,
   "metadata": {},
   "outputs": [],
   "source": [
    "# Export our model to HDF5 file\n",
    "nn.save(\"AlphabetSoupCharity_5th_opt.h5\")"
   ]
  },
  {
   "cell_type": "markdown",
   "metadata": {},
   "source": [
    "* 1st Pass Accuracy - Accuracy: 0.7278134226799011\n",
    "* With Binning Ask_Amt - Accuracy: 0.7231487035751343 (Worse)\n",
    "* With 36 Neurons in each layer (was 9) - Accuracy: 0.727580189704895 (Worse than 1st pass)\n",
    "* With 3 layers (was 2) - Accuracy: 0.7245481014251709 (Worse than 1st pass)\n",
    "* With tanh activation fuction - Accuracy: 0.7264139652252197 (Worse than 1st pass)\n",
    "* With 1 hidden layer (was 2) - Accuracy: 0.7241982221603394 (Worse than 1st pass)"
   ]
  },
  {
   "cell_type": "code",
   "execution_count": null,
   "metadata": {},
   "outputs": [],
   "source": []
  },
  {
   "cell_type": "code",
   "execution_count": null,
   "metadata": {},
   "outputs": [],
   "source": []
  }
 ],
 "metadata": {
  "kernelspec": {
   "display_name": "tensorflow",
   "language": "python",
   "name": "tensorflow"
  },
  "language_info": {
   "codemirror_mode": {
    "name": "ipython",
    "version": 3
   },
   "file_extension": ".py",
   "mimetype": "text/x-python",
   "name": "python",
   "nbconvert_exporter": "python",
   "pygments_lexer": "ipython3",
   "version": "3.9.10"
  }
 },
 "nbformat": 4,
 "nbformat_minor": 4
}
